{
  "cells": [
    {
      "cell_type": "code",
      "execution_count": null,
      "id": "5244c474-eb0a-4c7d-b002-171e2da03a90",
      "metadata": {
        "trusted": true
      },
      "outputs": [
        {
          "name": "stdout",
          "output_type": "stream",
          "text": [
            "Input table:\n",
            "[[0 0]\n",
            " [0 1]\n",
            " [1 0]\n",
            " [1 1]]\n",
            "Activation: 0\n",
            "Activation: 0\n",
            "Activation: 1\n",
            "Activation: 0\n"
          ]
        }
      ],
      "source": [
        "#AND NOT function using Mc Culloch-Pitts Neural Net.\n",
        "import numpy as np\n",
        "\n",
        "def linear_threshold_gate(dot, T):\n",
        "    '''Returns the binary threshold output'''\n",
        "    if dot >= T:\n",
        "        return 1\n",
        "    else:\n",
        "        return 0\n",
        "\n",
        "input_table = np.array([\n",
        "    [0, 0],  \n",
        "    [0, 1],  \n",
        "    [1, 0],  \n",
        "    [1, 1]  \n",
        "])\n",
        "\n",
        "print(f'Input table:\\n{input_table}')\n",
        "\n",
        "weights = np.array([1, -1])  \n",
        "dot_products = input_table @ weights  \n",
        "\n",
        "T = 1  \n",
        "\n",
        "for i in range(4):\n",
        "    activation = linear_threshold_gate(dot_products[i], T)\n",
        "    print(f'Activation: {activation}')\n"
      ]
    },
    {
      "cell_type": "code",
      "execution_count": null,
      "id": "6b635cee-5670-4a05-897b-1a4cfd607a68",
      "metadata": {
        "trusted": true
      },
      "outputs": [],
      "source": []
    }
  ],
  "metadata": {
    "kernelspec": {
      "display_name": "Python (Pyodide)",
      "language": "python",
      "name": "python"
    },
    "language_info": {
      "codemirror_mode": {
        "name": "python",
        "version": 3
      },
      "file_extension": ".py",
      "mimetype": "text/x-python",
      "name": "python",
      "nbconvert_exporter": "python",
      "pygments_lexer": "ipython3",
      "version": "3.8"
    }
  },
  "nbformat": 4,
  "nbformat_minor": 5
}
