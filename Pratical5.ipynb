{
  "cells": [
    {
      "cell_type": "code",
      "execution_count": null,
      "id": "96045698-a386-4e7d-8d2e-36270671782f",
      "metadata": {
        "trusted": true
      },
      "outputs": [
        {
          "name": "stdout",
          "output_type": "stream",
          "text": [
            "Input x: [ 1 -1 -1 -1]\n",
            "Output: [ 1 -1]\n"
          ]
        }
      ],
      "source": [
        "# -Bidirectional Associative Memory with two pairs of vectors.S\n",
        "import numpy as np\n",
        "\n",
        "# Define input vectors\n",
        "x1 = np.array([1, 1, 1, -1])\n",
        "y1 = np.array([1, -1])\n",
        "x2 = np.array([-1, -1, 1, 1])\n",
        "y2 = np.array([-1, 1])\n",
        "\n",
        "# Compute weight matrix\n",
        "W = np.outer(y1, x1) + np.outer(y2, x2)\n",
        "\n",
        "# BAM function\n",
        "def bam(x):\n",
        "    y = np.dot(W, x)\n",
        "    y = np.where(y >= 0, 1, -1)\n",
        "    return y\n",
        "\n",
        "# Test the BAM function\n",
        "x_test = np.array([1, -1, -1, -1])\n",
        "y_test = bam(x_test)\n",
        "\n",
        "# Print results\n",
        "print(\"Input x:\", x_test)\n",
        "print(\"Output:\", y_test)\n"
      ]
    },
    {
      "cell_type": "code",
      "execution_count": null,
      "id": "7561d530-c041-4cf2-9062-a543920bf994",
      "metadata": {
        "trusted": true
      },
      "outputs": [],
      "source": []
    }
  ],
  "metadata": {
    "kernelspec": {
      "display_name": "Python (Pyodide)",
      "language": "python",
      "name": "python"
    },
    "language_info": {
      "codemirror_mode": {
        "name": "python",
        "version": 3
      },
      "file_extension": ".py",
      "mimetype": "text/x-python",
      "name": "python",
      "nbconvert_exporter": "python",
      "pygments_lexer": "ipython3",
      "version": "3.8"
    }
  },
  "nbformat": 4,
  "nbformat_minor": 5
}
