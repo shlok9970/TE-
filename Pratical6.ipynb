{
  "cells": [
    {
      "cell_type": "code",
      "execution_count": null,
      "id": "53001356-2f30-4bbf-8e80-81f4539c09d8",
      "metadata": {
        "trusted": true
      },
      "outputs": [
        {
          "name": "stdout",
          "output_type": "stream",
          "text": [
            "Error at epoch 0 : 0.501414747570515\n",
            "Error at epoch 1000 : 0.03754616775283483\n",
            "Error at epoch 2000 : 0.02350760833386338\n",
            "Error at epoch 3000 : 0.0183593242519714\n",
            "Error at epoch 4000 : 0.015516619633469276\n",
            "Error at epoch 5000 : 0.013659871566136208\n",
            "Error at epoch 6000 : 0.012328631285190496\n",
            "Error at epoch 7000 : 0.011315585246555172\n",
            "Error at epoch 8000 : 0.010512072421098242\n",
            "Error at epoch 9000 : 0.009855016092045223\n",
            "\n",
            "Predictions:\n",
            " [[0.00640721]\n",
            " [0.98957972]\n",
            " [0.99149997]\n",
            " [0.01189248]]\n"
          ]
        }
      ],
      "source": [
        "#  Artificial Neural Network trining process of Forward Propagation, Back Propagation.\n",
        "import numpy as np\n",
        "\n",
        "class NeuralNetwork:\n",
        "    def __init__(self, input_size, hidden_size, output_size):\n",
        "        self.W1 = np.random.randn(input_size, hidden_size)\n",
        "        self.b1 = np.zeros((1, hidden_size))\n",
        "        self.W2 = np.random.randn(hidden_size, output_size)\n",
        "        self.b2 = np.zeros((1, output_size))\n",
        "\n",
        "    def sigmoid(self, x):\n",
        "        return 1 / (1 + np.exp(-x))\n",
        "\n",
        "    def sigmoid_derivative(self, x):\n",
        "        return x * (1 - x)\n",
        "\n",
        "    def forward_propagation(self, X):\n",
        "        self.z1 = np.dot(X, self.W1) + self.b1\n",
        "        self.a1 = self.sigmoid(self.z1)\n",
        "        self.z2 = np.dot(self.a1, self.W2) + self.b2\n",
        "        y_hat = self.sigmoid(self.z2)\n",
        "        return y_hat\n",
        "\n",
        "    def backward_propagation(self, X, y, y_hat):\n",
        "        self.error = y - y_hat\n",
        "        self.delta2 = self.error * self.sigmoid_derivative(y_hat)\n",
        "        self.a1_error = self.delta2.dot(self.W2.T)\n",
        "        self.delta1 = self.a1_error * self.sigmoid_derivative(self.a1)\n",
        "        \n",
        "        # Update weights and biases\n",
        "        self.W2 += self.a1.T.dot(self.delta2)\n",
        "        self.b2 += np.sum(self.delta2, axis=0, keepdims=True)\n",
        "        self.W1 += X.T.dot(self.delta1)\n",
        "        self.b1 += np.sum(self.delta1, axis=0)\n",
        "\n",
        "    def train(self, X, y, epochs, learning_rate=0.1):\n",
        "        for i in range(epochs):\n",
        "            y_hat = self.forward_propagation(X)\n",
        "            self.backward_propagation(X, y, y_hat)\n",
        "            \n",
        "            if i % 1000 == 0:\n",
        "                print(\"Error at epoch\", i, \":\", np.mean(np.abs(self.error)))\n",
        "\n",
        "    def predict(self, X):\n",
        "        return self.forward_propagation(X)\n",
        "\n",
        "# Training data\n",
        "X = np.array([[0, 0], [0, 1], [1, 0], [1, 1]])\n",
        "y = np.array([[0], [1], [1], [0]])\n",
        "\n",
        "# Create and train the neural network\n",
        "nn = NeuralNetwork(input_size=2, hidden_size=4, output_size=1)\n",
        "nn.train(X, y, epochs=10000)\n",
        "\n",
        "# Make predictions\n",
        "predictions = nn.predict(X)\n",
        "print(\"\\nPredictions:\\n\", predictions)\n"
      ]
    },
    {
      "cell_type": "code",
      "execution_count": null,
      "id": "37e236cc-7286-4ebf-9d95-6c88070e6787",
      "metadata": {
        "trusted": true
      },
      "outputs": [],
      "source": []
    }
  ],
  "metadata": {
    "kernelspec": {
      "display_name": "Python (Pyodide)",
      "language": "python",
      "name": "python"
    },
    "language_info": {
      "codemirror_mode": {
        "name": "python",
        "version": 3
      },
      "file_extension": ".py",
      "mimetype": "text/x-python",
      "name": "python",
      "nbconvert_exporter": "python",
      "pygments_lexer": "ipython3",
      "version": "3.8"
    }
  },
  "nbformat": 4,
  "nbformat_minor": 5
}
