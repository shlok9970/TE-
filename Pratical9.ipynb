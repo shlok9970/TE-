{
  "cells": [
    {
      "cell_type": "code",
      "execution_count": null,
      "id": "4d9dce11-3e1b-4db4-8939-b24d27d01a9e",
      "metadata": {
        "trusted": true
      },
      "outputs": [
        {
          "name": "stdout",
          "output_type": "stream",
          "text": [
            "Input pattern: [ 1  1 -1 -1]\n",
            "Predicted pattern: [-1. -1. -1. -1.]\n",
            "Input pattern: [-1 -1  1  1]\n",
            "Predicted pattern: [-1. -1. -1. -1.]\n",
            "Input pattern: [ 1 -1  1 -1]\n",
            "Predicted pattern: [-1. -1. -1. -1.]\n",
            "Input pattern: [-1  1 -1  1]\n",
            "Predicted pattern: [-1. -1. -1. -1.]\n"
          ]
        }
      ],
      "source": [
        "#Python program to design a Hopfield Network which stores 4 vectors\n",
        "import numpy as np\n",
        "\n",
        "class HopfieldNetwork:\n",
        "    def __init__(self, n_neurons):\n",
        "        self.n_neurons = n_neurons\n",
        "        self.weights = np.zeros((n_neurons, n_neurons))\n",
        "\n",
        "    def train(self, patterns):\n",
        "        for pattern in patterns:\n",
        "            self.weights += np.outer(pattern, pattern)\n",
        "        np.fill_diagonal(self.weights, 0)\n",
        "\n",
        "    def predict(self, pattern):\n",
        "        energy = -0.5 * np.dot(np.dot(pattern, self.weights), pattern)\n",
        "        return np.sign(np.dot(pattern, self.weights) + energy)\n",
        "\n",
        "if __name__ == '__main__':\n",
        "    patterns = np.array([\n",
        "        [1, 1, -1, -1],\n",
        "        [-1, -1, 1, 1],\n",
        "        [1, -1, 1, -1],\n",
        "        [-1, 1, -1, 1]\n",
        "    ])\n",
        "\n",
        "    n_neurons = patterns.shape[1]\n",
        "    network = HopfieldNetwork(n_neurons)\n",
        "    network.train(patterns)\n",
        "\n",
        "    for pattern in patterns:\n",
        "        prediction = network.predict(pattern)\n",
        "        print('Input pattern:', pattern)\n",
        "        print('Predicted pattern:', prediction)\n"
      ]
    },
    {
      "cell_type": "code",
      "execution_count": null,
      "id": "d89ac830-1dad-42bc-b07d-0ddb4fca415e",
      "metadata": {
        "trusted": true
      },
      "outputs": [],
      "source": []
    }
  ],
  "metadata": {
    "kernelspec": {
      "display_name": "Python (Pyodide)",
      "language": "python",
      "name": "python"
    },
    "language_info": {
      "codemirror_mode": {
        "name": "python",
        "version": 3
      },
      "file_extension": ".py",
      "mimetype": "text/x-python",
      "name": "python",
      "nbconvert_exporter": "python",
      "pygments_lexer": "ipython3",
      "version": "3.8"
    }
  },
  "nbformat": 4,
  "nbformat_minor": 5
}
