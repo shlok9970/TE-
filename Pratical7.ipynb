{
  "cells": [
    {
      "cell_type": "code",
      "execution_count": null,
      "id": "cb76c8e9-a721-4b80-9839-5f8c1bd5ef01",
      "metadata": {
        "trusted": true
      },
      "outputs": [
        {
          "name": "stdout",
          "output_type": "stream",
          "text": [
            "[[0.01497199]\n",
            " [0.98316336]\n",
            " [0.98305297]\n",
            " [0.01365459]]\n"
          ]
        }
      ],
      "source": [
        "#Python program to show back propagationnetwork for XOR function with Binary Input and Output. \n",
        "import numpy as np\n",
        "\n",
        "class XORNetwork:\n",
        "    def __init__(self):\n",
        "        self.W1 = np.random.randn(2, 2)\n",
        "        self.b1 = np.random.randn(2)\n",
        "        self.W2 = np.random.randn(2, 1)\n",
        "        self.b2 = np.random.randn(1)\n",
        "\n",
        "    def sigmoid(self, x):\n",
        "        return 1 / (1 + np.exp(-x))\n",
        "\n",
        "    def sigmoid_derivative(self, x):\n",
        "        return x * (1 - x)\n",
        "\n",
        "    def forward(self, X):\n",
        "        self.z1 = np.dot(X, self.W1) + self.b1\n",
        "        self.a1 = self.sigmoid(self.z1)\n",
        "        self.z2 = np.dot(self.a1, self.W2) + self.b2\n",
        "        self.a2 = self.sigmoid(self.z2)\n",
        "        return self.a2\n",
        "\n",
        "    def backward(self, X, y, output):\n",
        "        self.output_error = y - output\n",
        "        self.output_delta = self.output_error * self.sigmoid_derivative(output)\n",
        "        self.z1_error = self.output_delta.dot(self.W2.T)\n",
        "        self.z1_delta = self.z1_error * self.sigmoid_derivative(self.a1)\n",
        "        \n",
        "        # Update weights and biases\n",
        "        self.W1 += X.T.dot(self.z1_delta)\n",
        "        self.b1 += np.sum(self.z1_delta, axis=0)\n",
        "        self.W2 += self.a1.T.dot(self.output_delta)\n",
        "        self.b2 += np.sum(self.output_delta, axis=0)\n",
        "\n",
        "    def train(self, X, y, epochs):\n",
        "        for _ in range(epochs):\n",
        "            output = self.forward(X)\n",
        "            self.backward(X, y, output)\n",
        "\n",
        "    def predict(self, X):\n",
        "        return self.forward(X)\n",
        "\n",
        "# Define input and output for XOR problem\n",
        "X = np.array([[0, 0], [0, 1], [1, 0], [1, 1]])\n",
        "y = np.array([[0], [1], [1], [0]])\n",
        "\n",
        "# Create and train the XOR neural network\n",
        "xor_nn = XORNetwork()\n",
        "xor_nn.train(X, y, epochs=10000)\n",
        "\n",
        "# Make predictions\n",
        "predictions = xor_nn.predict(X)\n",
        "print(predictions)\n"
      ]
    },
    {
      "cell_type": "code",
      "execution_count": null,
      "id": "faedaa04-49d9-407f-8470-00fb5ba8bb57",
      "metadata": {
        "trusted": true
      },
      "outputs": [],
      "source": []
    }
  ],
  "metadata": {
    "kernelspec": {
      "display_name": "Python (Pyodide)",
      "language": "python",
      "name": "python"
    },
    "language_info": {
      "codemirror_mode": {
        "name": "python",
        "version": 3
      },
      "file_extension": ".py",
      "mimetype": "text/x-python",
      "name": "python",
      "nbconvert_exporter": "python",
      "pygments_lexer": "ipython3",
      "version": "3.8"
    }
  },
  "nbformat": 4,
  "nbformat_minor": 5
}
