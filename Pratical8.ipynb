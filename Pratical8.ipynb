{
  "cells": [
    {
      "cell_type": "code",
      "execution_count": null,
      "id": "cc34c78a-2697-41cd-9c09-163371079a65",
      "metadata": {
        "trusted": true
      },
      "outputs": [
        {
          "name": "stdout",
          "output_type": "stream",
          "text": [
            "Input:\n",
            "[[0 0]\n",
            " [0 1]\n",
            " [1 0]\n",
            " [1 1]]\n",
            "Output:\n",
            "[[0.0432607 ]\n",
            " [0.86022292]\n",
            " [0.86022325]\n",
            " [0.55132246]]\n"
          ]
        }
      ],
      "source": [
        "# Program for creating a back propagation feed-forward neural network.\n",
        "import numpy as np\n",
        "\n",
        "def sigmoid(x):\n",
        "    return 1 / (1 + np.exp(-x))\n",
        "\n",
        "def sigmoid_derivative(x):\n",
        "    return x * (1 - x)\n",
        "\n",
        "# Define input and output\n",
        "X = np.array([[0, 0], [0, 1], [1, 0], [1, 1]])\n",
        "y = np.array([[0], [1], [1], [0]])\n",
        "\n",
        "# Initialize parameters\n",
        "learning_rate = 0.1\n",
        "num_epochs = 100000\n",
        "\n",
        "hidden_weights = 2 * np.random.random((2, 2)) - 1\n",
        "output_weights = 2 * np.random.random((2, 1)) - 1\n",
        "\n",
        "# Train the neural network\n",
        "for _ in range(num_epochs):\n",
        "    hidden_layer = sigmoid(np.dot(X, hidden_weights))\n",
        "    output_layer = sigmoid(np.dot(hidden_layer, output_weights))\n",
        "    \n",
        "    # Compute error and deltas\n",
        "    output_error = y - output_layer\n",
        "    output_delta = output_error * sigmoid_derivative(output_layer)\n",
        "    \n",
        "    hidden_error = output_delta.dot(output_weights.T)\n",
        "    hidden_delta = hidden_error * sigmoid_derivative(hidden_layer)\n",
        "    \n",
        "    # Update weights\n",
        "    output_weights += hidden_layer.T.dot(output_delta) * learning_rate\n",
        "    hidden_weights += X.T.dot(hidden_delta) * learning_rate\n",
        "\n",
        "# Print results\n",
        "print(\"Input:\")\n",
        "print(X)\n",
        "print(\"Output:\")\n",
        "print(output_layer)\n"
      ]
    },
    {
      "cell_type": "code",
      "execution_count": null,
      "id": "5fb0ceeb-4b3b-42a0-bb3f-1cb54b84a945",
      "metadata": {
        "trusted": true
      },
      "outputs": [],
      "source": []
    }
  ],
  "metadata": {
    "kernelspec": {
      "display_name": "Python (Pyodide)",
      "language": "python",
      "name": "python"
    },
    "language_info": {
      "codemirror_mode": {
        "name": "python",
        "version": 3
      },
      "file_extension": ".py",
      "mimetype": "text/x-python",
      "name": "python",
      "nbconvert_exporter": "python",
      "pygments_lexer": "ipython3",
      "version": "3.8"
    }
  },
  "nbformat": 4,
  "nbformat_minor": 5
}
